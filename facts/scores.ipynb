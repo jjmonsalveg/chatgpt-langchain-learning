{
 "cells": [
  {
   "cell_type": "code",
   "execution_count": 1,
   "metadata": {},
   "outputs": [
    {
     "name": "stderr",
     "output_type": "stream",
     "text": [
      "/Users/jjmonsalve/.local/share/virtualenvs/chatgpt-langchain-learning-Ylf5VL38/lib/python3.11/site-packages/langchain_core/_api/deprecation.py:117: LangChainDeprecationWarning: The class `langchain_community.embeddings.openai.OpenAIEmbeddings` was deprecated in langchain-community 0.1.0 and will be removed in 0.2.0. An updated version of the class exists in the langchain-openai package and should be used instead. To use it run `pip install -U langchain-openai` and import as `from langchain_openai import OpenAIEmbeddings`.\n",
      "  warn_deprecated(\n"
     ]
    }
   ],
   "source": [
    "from dotenv import load_dotenv\n",
    "from langchain.embeddings import OpenAIEmbeddings\n",
    "\n",
    "load_dotenv()\n",
    "\n",
    "embeddings = OpenAIEmbeddings()"
   ]
  },
  {
   "cell_type": "code",
   "execution_count": 2,
   "metadata": {},
   "outputs": [],
   "source": [
    "import numpy as np\n",
    "\n",
    "\n",
    "def calculate_l2(v1, v2):\n",
    "    return np.linalg.norm(v1 - v2) ** 2"
   ]
  },
  {
   "cell_type": "code",
   "execution_count": 4,
   "metadata": {},
   "outputs": [
    {
     "name": "stderr",
     "output_type": "stream",
     "text": [
      "Matplotlib is building the font cache; this may take a moment.\n"
     ]
    }
   ],
   "source": [
    "import textwrap\n",
    "\n",
    "import matplotlib.pyplot as plt\n",
    "\n",
    "\n",
    "def wrap_labels(labels, width):\n",
    "    return [ '\\n'.join(textwrap.wrap(label, width)) for label in labels ]\n",
    "\n",
    "def plot(data, words):\n",
    "    fig, ax = plt.subplots()\n",
    "    ax.imshow(data, cmap=\"Blues\")\n",
    "\n",
    "    labels = wrap_labels(words, 30)\n",
    "    ax.set_xticks(np.arange(len(words)), labels=labels)\n",
    "    ax.set_yticks(np.arange(len(words)), labels=labels)\n",
    "\n",
    "    ax.xaxis.tick_top()\n",
    "    ax.xaxis.set_label_position('top')\n",
    "\n",
    "    plt.setp(ax.get_xticklabels(), rotation=45, ha=\"left\",\n",
    "            rotation_mode=\"anchor\")\n",
    "\n",
    "    for i in range(len(words)):\n",
    "        for j in range(len(words)):\n",
    "            text = ax.text(j, i, round(data[i, j], 2),\n",
    "                        ha=\"center\", va=\"center\")\n",
    "\n",
    "    fig.tight_layout()\n",
    "    plt.show()"
   ]
  },
  {
   "cell_type": "code",
   "execution_count": 5,
   "metadata": {},
   "outputs": [],
   "source": [
    "words = [\n",
    "    \"The happy child jumped bravely from rock to rock\",\n",
    "    \"The child was not timid and had a good time jumping from rock to rock\",\n",
    "    \"Although filled with great fear, the child jumped from rock to rock\",\n",
    "    \"lemon\"\n",
    "]\n",
    "\n",
    "embs = [\n",
    "    np.array(embeddings.embed_query(word)) for word in words\n",
    "]\n",
    "\n",
    "data = np.array([\n",
    "    [calculate_l2(e1,e2) for e1 in embs] for e2 in embs\n",
    "])\n",
    "\n",
    "plot(data, words)"
   ]
  }
 ],
 "metadata": {
  "kernelspec": {
   "display_name": "chatgpt-langchain-learning-Ylf5VL38",
   "language": "python",
   "name": "python3"
  },
  "language_info": {
   "codemirror_mode": {
    "name": "ipython",
    "version": 3
   },
   "file_extension": ".py",
   "mimetype": "text/x-python",
   "name": "python",
   "nbconvert_exporter": "python",
   "pygments_lexer": "ipython3",
   "version": "3.11.10"
  },
  "orig_nbformat": 4
 },
 "nbformat": 4,
 "nbformat_minor": 2
}
